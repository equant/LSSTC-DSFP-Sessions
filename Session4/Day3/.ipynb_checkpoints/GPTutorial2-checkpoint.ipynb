{
 "cells": [
  {
   "cell_type": "code",
   "execution_count": null,
   "metadata": {
    "collapsed": true
   },
   "outputs": [],
   "source": [
    "from __future__ import print_function, division, absolute_import"
   ]
  },
  {
   "cell_type": "markdown",
   "metadata": {},
   "source": [
    "# Gaussian Process regression tutorial 2:\n",
    "\n",
    "In this tutorial, we are to explore some slightly more realistic applications of GPs to astrophysical (or at least, astronomy-like) datasets. We will do this using the popular `george` package by Daniel Foreman-Mackey.\n",
    "\n",
    "* * *\n",
    "\n",
    "By S Aigrain (University of Oxford)"
   ]
  },
  {
   "cell_type": "markdown",
   "metadata": {},
   "source": [
    "In this tutorial, we are to explore some slightly more realistic applications of GPs to astrophysical (or at least, astronomy-like) datasets. \n",
    "\n",
    "We will do this using the popular `george` package by Daniel Foreman-Mackey. `george` doesn't have all the functionality of more general packages such as `GPy` and `scikit-learn`, but it still has a nice modelling interface, is easy to use, and is faster than either of the other two. \n",
    "\n",
    "We will also use another of Dan's packages, `emcee` to explore posterior probabilities using MCMC, and his `corner.py` module to plot the resulting parameter samples."
   ]
  },
  {
   "cell_type": "markdown",
   "metadata": {},
   "source": [
    "### Required packages\n",
    "\n",
    "**Why `george`?** `george` doesn't have all the functionality of `GPy`, but it is easy to use, and is faster than either of the other two. And I'm more familiar with it.\n",
    "\n",
    "We will also use another of Dan's packages, `emcee` to explore posterior probabilities using MCMC, and his `corner.py` module to plot the resulting parameter samples.\n",
    "\n",
    "Before you start, make sure you have the latest stable version of these packages installed. If you used `george` before, note the API has changed significantly between versions 0.2.x and 0.3.0.\n",
    "\n",
    "The easiest way to install all three packages is with `pip`:\n",
    "```\n",
    "pip install emcee\n",
    "pip install george\n",
    "pip install corner\n",
    "```\n",
    "\n",
    "Full documentation is available here:\n",
    "- https://george.readthedocs.io/\n",
    "- https://emcee.readthedocs.io/\n",
    "- https://corner.readthedocs.io/"
   ]
  },
  {
   "cell_type": "code",
   "execution_count": 1,
   "metadata": {
    "collapsed": true
   },
   "outputs": [],
   "source": [
    "%matplotlib inline\n",
    "import numpy as np\n",
    "import matplotlib.pyplot as plt\n",
    "from mpl_toolkits.mplot3d import Axes3D\n",
    "import george, emcee, corner\n",
    "from scipy.optimize import minimize"
   ]
  },
  {
   "cell_type": "markdown",
   "metadata": {},
   "source": [
    "### Problem 0: working through the `george` introductory tutorials\n",
    "\n",
    "The `george` documentation includes some nice tutorials, which you'll need to run through before being able to tackle the problems below. Download and run the notebooks, making sure you understand what's going on at each step, and don't hesitate to ask questions!\n",
    "\n",
    "- [A gentle introduction to Gaussian Process regression](https://george.readthedocs.io/en/latest/_static/notebooks/first.ipynb): essentially does the same thing as problem 3 from Tutorial 1, but without a mean function. \n",
    "- [Model fitting with correlated noise](https://george.readthedocs.io/en/latest/_static/notebooks/model.ipynb): includes a mean function, and uses MCMC to explore the dependence of the posterior on the hyper-parameters. The same dataset is also analysed using a model with white noise only, to show how ignoring the correlations in the noise leads to over-confident estimates of the mean function parameters.\n",
    "\n",
    "Now you should have an idea of how to set up a basic GP model using `george`, how to make predictions, and how to evaluate the likelihood, optimize it, and explore the posterior using MCMC. I would also encourage you to try out the other tutorials, but they are not pre-requisites for this one."
   ]
  },
  {
   "cell_type": "markdown",
   "metadata": {},
   "source": [
    "## Problem 1: A simple 2-D problem \n",
    "\n",
    "So far we have looked only at 1-D inputs, like time. Let's introduce a simple 2-d input case. We will generate some data using a 2-D polynomial and model it using a squared exponential GP.\n",
    "\n",
    "Run the cell below to generate and plot the data."
   ]
  },
  {
   "cell_type": "code",
   "execution_count": 2,
   "metadata": {},
   "outputs": [
    {
     "data": {
      "image/png": "[encoded data removed]",
      "text/plain": [
       "<matplotlib.figure.Figure at 0x7f695ffbada0>"
      ]
     },
     "metadata": {},
     "output_type": "display_data"
    }
   ],
   "source": [
    "N = 100\n",
    "xobs = np.random.uniform(-5,5,N)\n",
    "yobs = np.random.uniform(-5,5,N)\n",
    "zobs = - 0.05 * xobs**2 + 0.03 * yobs**2 - 0.02 * xobs * yobs\n",
    "eobs = 0.01\n",
    "zobs += np.random.normal(0,eobs,len(xobs))\n",
    "plt.scatter(xobs, yobs, c=zobs, s=20, marker='.')\n",
    "plt.xlabel(r'$x$')\n",
    "plt.ylabel(r'$y$')\n",
    "cb = plt.colorbar()\n",
    "cb.set_label(r'$z$');"
   ]
  },
  {
   "cell_type": "markdown",
   "metadata": {},
   "source": [
    "### Problem 1a: setting up the GP\n",
    "\n",
    "Now we will construct the GP model using `george`. We will use a with different length scales in each of the two dimensions. To set this up in george, you have to multiply two individual kernels together, like that:\n",
    "\n",
    "```\n",
    "k = a * KernelName(b, ndim = 2, axes = 0) * KernelName(c, ndim = 2, axes = 1)   \n",
    "```\n",
    "\n",
    "Here `KernelName` stands for the name of the kernel used (in `george`, the squared exponential kernel is called `ExpSquaredKernel`), `a` is the output variance, `b` is the metric, or length scale, applied to the first input dimension, and `c` to the second. \n",
    "\n",
    "Note this is equivalent to the parametrisation used in the lectures:\n",
    "$$\n",
    "k(x,x') = A \\exp \\left[ - \\Gamma (x-x')^2\\right] = A \\exp \\left[ - (x-x')^2/m^2\\right]\n",
    "$$\n",
    "with $\\Gamma=1/m^2$."
   ]
  },
  {
   "cell_type": "markdown",
   "metadata": {},
   "source": [
    "Go ahead and define the kernel in the cell below, with some ball park values for the hyper-parameters (by ball-park, I mean not too many orders of magnitudes off). Then create a GP object using that kernel. "
   ]
  },
  {
   "cell_type": "code",
   "execution_count": null,
   "metadata": {
    "collapsed": true
   },
   "outputs": [],
   "source": [
    "#k = 1.0 * george.kernels. # ...complete\n",
    "k = 1.0 * kernels.ExpSquaredKernel(0.5)\n",
    "\n",
    "#gp = george.GP(# complete\n",
    "gp = george.GP(kernel)\n"
   ]
  },
  {
   "cell_type": "markdown",
   "metadata": {},
   "source": [
    "Now you will need to tell the GP object what inputs the covariance matrix is to be evaluated at. This is done using the `compute` method. 2-D inputs need to be passed as an $N \\times 2$ array, which you will need to construct from the two 1-D arrays of $x$- and $y$-values we generated earlier. The second argument of `compute` should be the white noise standard deviation."
   ]
  },
  {
   "cell_type": "code",
   "execution_count": null,
   "metadata": {
    "collapsed": true
   },
   "outputs": [],
   "source": [
    "Xobs = np.concatenate([[xobs],[yobs]]).T\n",
    "#gp.compute(# complete\n",
    "gp.compute(x, yerr)\n"
   ]
  },
  {
   "cell_type": "markdown",
   "metadata": {},
   "source": [
    "### Problem 1b: Optimizing the likelihood"
   ]
  },
  {
   "cell_type": "markdown",
   "metadata": {},
   "source": [
    "Following the example in the first `george` tutorial, define a simple neg log likelihood function, and a function to evaluate its gradient."
   ]
  },
  {
   "cell_type": "code",
   "execution_count": null,
   "metadata": {
    "collapsed": true
   },
   "outputs": [],
   "source": [
    "def neg_ln_like(p):\n",
    "    # complete\n",
    "    return # complete\n",
    "\n",
    "def grad_neg_ln_like(p):\n",
    "    # complete\n",
    "    return # complete"
   ]
  },
  {
   "cell_type": "markdown",
   "metadata": {},
   "source": [
    "Note that the parameters which are accessed through the `set_parameter_vector` method are the logarithms of the values used in building the kernel. The optimization is thus done in terms of the log parameters."
   ]
  },
  {
   "cell_type": "markdown",
   "metadata": {},
   "source": [
    "Again following the same example, find the hyper-parameters that maximise the likelihood, using `scipy.optimize`'s `minimize` function, and print the results."
   ]
  },
  {
   "cell_type": "code",
   "execution_count": null,
   "metadata": {
    "collapsed": true
   },
   "outputs": [],
   "source": [
    "result = minimize(# complete\n",
    "print(result)"
   ]
  },
  {
   "cell_type": "markdown",
   "metadata": {},
   "source": [
    "Now assign those best-fit values to the parameter vector"
   ]
  },
  {
   "cell_type": "code",
   "execution_count": null,
   "metadata": {
    "collapsed": true
   },
   "outputs": [],
   "source": [
    "gp.set_parameter_vector(# complete"
   ]
  },
  {
   "cell_type": "markdown",
   "metadata": {},
   "source": [
    "### Plotting the predictive distribution\n",
    "\n",
    "Generate a grid of regularly spaced $x$ and $y$ locations, spanning the range of the observations, where we will evaluate the predictive distribution. Store these in 2-D arrays called `X2D` and `Y2D`. Then convert them into a single 2-D array of shape $N_{\\mathrm{pred}} \\times 2$, which will be passed to the GP's `predict` method.\n",
    "\n",
    "*Hint: use `numpy`'s `mrid` function.*"
   ]
  },
  {
   "cell_type": "code",
   "execution_count": null,
   "metadata": {
    "collapsed": true
   },
   "outputs": [],
   "source": [
    "X2D,Y2D = np.mgrid[# complete\n",
    "Xpred = np.concatenate(# complete"
   ]
  },
  {
   "cell_type": "markdown",
   "metadata": {},
   "source": [
    "Using the best-fit hyper-parameters, evaluate the mean of the predictive distribution at the grid locations. The output will be a 1-D array, which you will need to reshape so it has the same shape as `X2D` and `Y2D` for plotting."
   ]
  },
  {
   "cell_type": "code",
   "execution_count": null,
   "metadata": {
    "collapsed": true
   },
   "outputs": [],
   "source": [
    "zpred = gp.predict(# complete\n",
    "Z2D = zpred.reshape(# complete"
   ]
  },
  {
   "cell_type": "markdown",
   "metadata": {},
   "source": [
    "Execute the cell below to plot contours of the  predictive mean alongside the data."
   ]
  },
  {
   "cell_type": "code",
   "execution_count": null,
   "metadata": {
    "collapsed": true
   },
   "outputs": [],
   "source": [
    "plt.scatter(xobs, yobs, c=zobs, s=20, marker='.')\n",
    "plt.xlabel(r'$x$')\n",
    "plt.ylabel(r'$y$')\n",
    "cb = plt.colorbar()\n",
    "cb.set_label(r'$z$');\n",
    "plt.contour(X2D,Y2D,Z2D);"
   ]
  },
  {
   "cell_type": "markdown",
   "metadata": {},
   "source": [
    "Visualising the confidence intervals is a bit tricky in 3-D so we'll skip that. We could use `emcee` to explore the posterior distribution of the hyper-parameters, but we will leave that for a more realistic example."
   ]
  },
  {
   "cell_type": "markdown",
   "metadata": {},
   "source": [
    "## Problem 2: Separable functions\n",
    "\n",
    "In the above problem we were modelling a non-separable function of $x$ and $y$ (because of the cross-term in the polynomial). Now we will model a separable function, and use a GP with a sum rather than a product of kernels to separate the dependence on each of the input variable.\n",
    "\n",
    "This exploits the fact that GPs preserve additivity. In other words, a GP with a sum of kernels, each depending on a disjoint subset of the inputs, sets up a probability distribution over functions that are sums of functions of the individual subsets of inputs. This is how the K2SC pipeline (for removing pointing systematics in K2 data) discussed in the lectures works.\n",
    "\n",
    "As ever, we start by simulating a dataset. Execute the cell below."
   ]
  },
  {
   "cell_type": "code",
   "execution_count": null,
   "metadata": {
    "collapsed": true
   },
   "outputs": [],
   "source": [
    "N = 100\n",
    "xobs = np.random.uniform(-5,5,N)\n",
    "yobs = np.random.uniform(-5,5,N)\n",
    "zobs = -0.05 * xobs**2 + np.sin(yobs)\n",
    "eobs = 0.01\n",
    "zobs += np.random.normal(0,eobs,len(xobs))\n",
    "plt.scatter(xobs, yobs, c=zobs, s=20, marker='.')\n",
    "plt.xlabel(r'$x$')\n",
    "plt.ylabel(r'$y$')\n",
    "cb = plt.colorbar()\n",
    "cb.set_label(r'$z$');"
   ]
  },
  {
   "cell_type": "markdown",
   "metadata": {},
   "source": [
    "### Problem 2a: Joint model\n",
    "\n",
    "We start, once again, by defining the GP object. The kernel will consist of a sum of 2 squared exponentials, one applied to each dimension. It will be useful to be able to access each of the kernel objects separately later, so start by defining each of the component kernel, assigning them to variables `k1` and `k2`, and then define the overal kernel `k` as the sum of the two. Then define the GP object itself."
   ]
  },
  {
   "cell_type": "code",
   "execution_count": null,
   "metadata": {
    "collapsed": true
   },
   "outputs": [],
   "source": [
    "k1 = # complete\n",
    "k2 = # complete\n",
    "k = # complete\n",
    "gp = # complete\n",
    "Xobs = # complete"
   ]
  },
  {
   "cell_type": "markdown",
   "metadata": {},
   "source": [
    "Next we want to optimize the likelihood. Luckily we can re-use the neg log likelihood and gradient functions from the previous problem. Start by packaging up the two inputs into a single 2-D vector, as in Problem 1, then use the `minimize` function to evaluate the max. likelihood hyper-parameters."
   ]
  },
  {
   "cell_type": "code",
   "execution_count": null,
   "metadata": {
    "collapsed": true
   },
   "outputs": [],
   "source": [
    "gp.compute(# complete\n",
    "result = minimize(# complete\n",
    "print(result)"
   ]
  },
  {
   "cell_type": "markdown",
   "metadata": {},
   "source": [
    "Now let's plot the predictive distribution to check it worked ok. You can just copy and paste code from Problem 1."
   ]
  },
  {
   "cell_type": "code",
   "execution_count": null,
   "metadata": {
    "collapsed": true
   },
   "outputs": [],
   "source": [
    "# copy plotting commands from problem 1c"
   ]
  },
  {
   "cell_type": "markdown",
   "metadata": {},
   "source": [
    "### Problem 2b: Separating the components\n",
    "\n",
    "We now come to evaluating the predictive means for the individual components. The standard expression for the predictive mean is:\n",
    "$$\n",
    "\\overline{\\boldsymbol{y}}_* = K(\\boldsymbol{x}_*,\\boldsymbol{x}) K(\\boldsymbol{x},\\boldsymbol{x})^{-1} \\boldsymbol{y}\n",
    "$$\n",
    "The predictive mean for a given component of the kernel is obtained simply by replacing the first instance of the covariance matrix between test and training points, $K(\\boldsymbol{x}_*,\\boldsymbol{x})$, by the corresponding matrix for the component in question only:\n",
    "$$\n",
    "\\overline{\\boldsymbol{y}}_{1,*} = K_1(\\boldsymbol{x}_*,\\boldsymbol{x}) K(\\boldsymbol{x},\\boldsymbol{x})^{-1} \\boldsymbol{y}.\n",
    "$$\n",
    "\n",
    "`george` doesn't provide a built-in function to do this, but\n",
    "- the GP object has a method `apply_inverse`, which evaluates and returns the product $K(\\boldsymbol{x},\\boldsymbol{x})^{-1} \\boldsymbol{y}$ for a given vector of training set outputs $\\boldsymbol{y}$,\n",
    "- the kernel object has a method `get_value`, which evaluates the covariance matrix for a given set of inputs.\n",
    "\n",
    "Use these two functions to evaluate the two components of the best-fit GP model in our problem. Store the $x$- and $y$ components in variables `fx` and `fy`, respectively.\n",
    "\n",
    "*Hint: The `apply_inverse` method does what it says in the name, i.e. it modifies its argument by pre-multiplying it by the inverse of the covariance matrix. Therefore, you need to pass it a copy of the vector of obserced outputs, not the original.*"
   ]
  },
  {
   "cell_type": "code",
   "execution_count": null,
   "metadata": {
    "collapsed": true
   },
   "outputs": [],
   "source": [
    "b = np.copy(zobs)\n",
    "gp.apply_inverse(#\n",
    "K1 = # complete\n",
    "fx = np.dot(# complete\n",
    "K2 = # complete\n",
    "fy = np.dot(# complete"
   ]
  },
  {
   "cell_type": "markdown",
   "metadata": {},
   "source": [
    "Now execute the cell below to plot the results."
   ]
  },
  {
   "cell_type": "code",
   "execution_count": null,
   "metadata": {
    "collapsed": true
   },
   "outputs": [],
   "source": [
    "plt.figure(figsize=(12,5))\n",
    "plt.subplot(121)\n",
    "plt.plot(xobs,zobs,'.',c='grey')\n",
    "plt.plot(xobs,zobs-fy,'k.')\n",
    "s = np.argsort(xobs)\n",
    "plt.plot(xobs[s],fx[s],'r-')\n",
    "plt.subplot(122)\n",
    "plt.plot(yobs,zobs,'.',c='grey')\n",
    "plt.plot(yobs,zobs-fx,'k.')\n",
    "s = np.argsort(yobs)\n",
    "plt.plot(yobs[s],fy[s],'r-');"
   ]
  },
  {
   "cell_type": "markdown",
   "metadata": {},
   "source": [
    "## Problem 3: Multiple time-series with delays"
   ]
  },
  {
   "cell_type": "markdown",
   "metadata": {},
   "source": [
    "Consider a situation where we have several time-series, which we expect to display the same behaviour (up to observational noise), except for a time-delay. We don't know the form of the behaviour, but we want to measure the time-delay between each pair of time-series. Something like this might arise in [AGN reverberation mapping](https://en.wikipedia.org/wiki/Reverberation_mapping), for example.\n",
    "\n",
    "We can do this by modelling the time-series as observations of the same GP, with shifted inputs, and marginalising over the GP hyper-parameters to obtain posterior distribution over the time shifts."
   ]
  },
  {
   "cell_type": "markdown",
   "metadata": {},
   "source": [
    "First, let's simulate some data. We will cheat by doing this using a GP, so we know it will work. Execute the cell below."
   ]
  },
  {
   "cell_type": "code",
   "execution_count": null,
   "metadata": {
    "collapsed": true
   },
   "outputs": [],
   "source": [
    "N = 50\n",
    "M = 3\n",
    "t2d = np.tile(np.linspace(0,10,N),(M,1))\n",
    "for i in range(M):\n",
    "    t2d[i,:] += np.random.uniform(-5./N,5./N,N)\n",
    "delays_true = [-1.5,3]\n",
    "t_delayed = np.copy(t2d)\n",
    "for i in range(M-1):\n",
    "    t_delayed[i+1,:] = t2d[i,:] + delays_true[i]\n",
    "gp = george.GP(1.0 * george.kernels.Matern52Kernel(3.0))\n",
    "gppar_true = gp.get_parameter_vector()\n",
    "y2d = gp.sample(t_delayed.flatten()).reshape((M,N))\n",
    "wn = 0.1\n",
    "y2d += np.random.normal(0,wn,(M,N))\n",
    "for i in range(M):\n",
    "    plt.errorbar(t2d[i,:],y2d[i,:].flatten(),yerr=wn,capsize=0,fmt='.')\n",
    "plt.xlabel('t')\n",
    "plt.ylabel('y');"
   ]
  },
  {
   "cell_type": "markdown",
   "metadata": {},
   "source": [
    "### Problem 3a: Initial guesses\n",
    "\n",
    "Because the function goes up an down, you can probably guess that the likelihood surface is going to be highly multi-modal. So it's important to have a decent initial guess for the time delays.\n",
    "\n",
    "A simple way to do obtain one would be by cross-correlation, but since the time-series are not regularly sampled (because of the small random term we added to each of the time arrays), we need to interpolate them onto a regular grid first. What better way to do this than with a GP? This will have the added advantage of giving us an initial estimate of the GP hyper-parameters too (we're assuming we don't know them either, though we will assume we know the white noise standard deviation).\n",
    "\n",
    "First we need to define a GP object, based on a Matern 3/2 kernel with variable input scale and variance. Do this in the cell below."
   ]
  },
  {
   "cell_type": "code",
   "execution_count": null,
   "metadata": {
    "collapsed": true
   },
   "outputs": [],
   "source": [
    "k = # complete\n",
    "gp = # complete"
   ]
  },
  {
   "cell_type": "markdown",
   "metadata": {},
   "source": [
    "Now we need to fit each time-series in turn, and compute the mean of the predictive distribution over a tightly sampled, regular grid of time values. If you take care to name our variables right, you can reuse the neg log likelihood and associated gradient functions from Problem 1.\n",
    "\n",
    "Complete the code below and run it"
   ]
  },
  {
   "cell_type": "code",
   "execution_count": null,
   "metadata": {
    "collapsed": true
   },
   "outputs": [],
   "source": [
    "p0 = gp.get_parameter_vector()\n",
    "# 2-D array to hold the best-fit GP HPs for each time-series\n",
    "p1 = np.tile(# complete\n",
    "# Regularly sampled time array\n",
    "treg = # complete\n",
    "# 2-D array to hold the interpolated time-series\n",
    "yreg = # complete\n",
    "c = ['r','g','b']\n",
    "for i in range(M):\n",
    "    # Compute the gp on the relevant subset of the 2-D time array t2d\n",
    "    # complete\n",
    "    # Assign the corresponding y values to the variable zobs\n",
    "    # (this is the one that neg_ln_like uses to condition the GP)\n",
    "    zobs = # complete\n",
    "    # Optimize the likelihood using minimize\n",
    "    result = minimize(# complete\n",
    "    # Save the best-fit GP HPs in p1\n",
    "    p1[i,:] = # complete\n",
    "    # update the GP parameter vector with the best fit values \n",
    "    gp.# complete\n",
    "    # evaluate the predictive mean conditioned on zobs at locations treg and save in yreg\n",
    "    yreg[i,:] = # complete\n",
    "    # you might want to plot the results to check it worked\n",
    "    plt.plot(t2d[i,:],y2d[i,:],'.',c=c[i])\n",
    "    plt.plot(treg,yreg[i,:],'-',c=c[i])\n",
    "# And let's print the GP HPs to see if they were sensible.\n",
    "print('Individual GP fits: best-fit HPs')\n",
    "print(p1)"
   ]
  },
  {
   "cell_type": "markdown",
   "metadata": {},
   "source": [
    "Now we are ready to cross-correlate the interpolated time-series. The easiest way to do this is using the function `xcorr` from `matplotlib.pyplot`. This function returns a tuple of 4 variables, the first two of which are the lags and corresponding cross-correlation values."
   ]
  },
  {
   "cell_type": "code",
   "execution_count": null,
   "metadata": {
    "collapsed": true
   },
   "outputs": [],
   "source": [
    "dt = treg[1] - treg[0]\n",
    "# Array to hold estimates of the time-delays\n",
    "delays_0 = np.zeros(M-1)\n",
    "for i in range(M-1):\n",
    "    # use pyplot's xcorr function to cross-correlate yreg[i+1] with yreg[0]\n",
    "    lags, corr, _, _ = # complete\n",
    "    # find the lag that maximises the CCF, convert it to time delay, save in delays_0 array\n",
    "    lmax = # complete\n",
    "    plt.axvline(lmax,color=c[i+1])\n",
    "    delays_0[i] = # complete\n",
    "plt.xlabel('lag')\n",
    "plt.ylabel('x-correlation');\n",
    "# Compare estimated to true delays\n",
    "print('Estimated time delays from cross-correlation')\n",
    "print(delays_0)\n",
    "print('True delays')\n",
    "print(delays_true)"
   ]
  },
  {
   "cell_type": "markdown",
   "metadata": {},
   "source": [
    "As you can see, the delays estimated in this way aren't too far off.\n",
    "\n",
    "To get initial guesses for the GP hyper-parameters, we can take the mean of the best-fit values from the three individual time-series. Do this in the cell below."
   ]
  },
  {
   "cell_type": "code",
   "execution_count": null,
   "metadata": {
    "collapsed": true
   },
   "outputs": [],
   "source": [
    "gppar_0 = # complete\n",
    "print('Estimated GP HPs')\n",
    "print(gppar_0)\n",
    "print('True GP HPs')\n",
    "print(gppar_true)"
   ]
  },
  {
   "cell_type": "markdown",
   "metadata": {},
   "source": [
    "The GP HPs aren't too far off either.\n",
    "\n",
    "### Problem 3b: Optimization\n",
    "\n",
    "Now we have some initial guesses for the time-delays and the GP hyper-parameters, we're ready to model the time-series simultaneously, using a single GP. We need to write a new likelihood function to do this. The function will need to apply the delays to the times, before passing these times to `george` to evaluate the likelihood itself. \n",
    "\n",
    "First let's define a function `apply_delays`, which will take the delays and the time array `t` as inputs, and return an $M \\times N$ array of delayed times. This function will be called by the likelihood function, but it might be useful later for plotting the results too. It would also be useful for this function to warn us if the time-delays are such that one of the time-series no longer overlaps with the others at all, for example by returning a boolean variable that is true if all is well, but false if not.\n",
    "\n",
    "Complete the definition below."
   ]
  },
  {
   "cell_type": "code",
   "execution_count": null,
   "metadata": {
    "collapsed": true
   },
   "outputs": [],
   "source": [
    "def apply_delays(delays,t2d):\n",
    "    t_delayed = np.copy(t2d)\n",
    "    for i, delay in enumerate(delays):\n",
    "        t_delayed[i+1,:] # complete\n",
    "    ok = True\n",
    "    M = len(delays) + 1\n",
    "    for i in range(M):\n",
    "        # complete\n",
    "    return t_delayed, ok"
   ]
  },
  {
   "cell_type": "markdown",
   "metadata": {},
   "source": [
    "Now we are ready to define the likelihood function itself. The likelihood should accept a parameter array consisting of the shifts first, and then the GP hyper-parameters, and make use of the output of `apply_delays` to return a very high number if the time delays are unreasonable. Complete the definition below."
   ]
  },
  {
   "cell_type": "code",
   "execution_count": null,
   "metadata": {
    "collapsed": true
   },
   "outputs": [],
   "source": [
    "def neg_ln_like_delays(p):\n",
    "    delays = p[# complete\n",
    "    t_delayed, ok = # complete\n",
    "    if not ok: \n",
    "        # complete\n",
    "    gp.set_parameter_vector(# complete\n",
    "    gp.compute(# complete\n",
    "    return # complete"
   ]
  },
  {
   "cell_type": "markdown",
   "metadata": {},
   "source": [
    "There is no simple analytical way to evaluate the gradient of the log likelihood with respect to the time delays, so we will not define a `grad_neg_log_like` function for this problem. The gradient descent optimizer will be slower, since it will have to evaluate the gradients numerically, but for such a small dataset it doesn't matter."
   ]
  },
  {
   "cell_type": "markdown",
   "metadata": {},
   "source": [
    "Ok, now we are ready to run the optimizer. Like before, we can use the `minimize` function from `scipy.optimize`."
   ]
  },
  {
   "cell_type": "code",
   "execution_count": null,
   "metadata": {
    "collapsed": true
   },
   "outputs": [],
   "source": [
    "# concatenated array of true time delays and GP HPs\n",
    "ptrue = # complete\n",
    "# same for the initial guesses\n",
    "p0 = # complete\n",
    "print('Initial guesses')\n",
    "print(p0)\n",
    "result = minimize(# complete\n",
    "# save ML values in p1\n",
    "p1 = # complete\n",
    "print('ML parameters')\n",
    "print(p1)\n",
    "print('True parameters')\n",
    "print(ptrue)"
   ]
  },
  {
   "cell_type": "markdown",
   "metadata": {},
   "source": [
    "As you can see, the optimization further improved our estimates of the time delays and the GP HPs. But how much can we trust these? Let's evaluate posterior uncertainties using MCMC."
   ]
  },
  {
   "cell_type": "markdown",
   "metadata": {},
   "source": [
    "### Hyper-parameter marginalisation.\n",
    "\n",
    "We now use MCMC to obtain uncertainty estimates, or confidence intervals, for the model hyper-parameters. \n",
    "\n",
    "First we need to define the posterior function to pass to the `emcee` sampler. We will use improper, flat priors over all the parameters, so the posterior probability is just a trivial wrapper around our `neg_ln_like_delays` function. Complete the definition below:"
   ]
  },
  {
   "cell_type": "code",
   "execution_count": null,
   "metadata": {
    "collapsed": true
   },
   "outputs": [],
   "source": [
    "def lnprob(p):\n",
    "    # complete"
   ]
  },
  {
   "cell_type": "markdown",
   "metadata": {},
   "source": [
    "Next, we set up the sampler. We will use 32 walkers, and initialise each set of walkers using the maximum likelihood estimates of the parameters plus a small random offset. Complete the code below, using the second `george` tutorial as an example."
   ]
  },
  {
   "cell_type": "code",
   "execution_count": null,
   "metadata": {
    "collapsed": true
   },
   "outputs": [],
   "source": [
    "ndim, nwalkers = # complete\n",
    "p2 = # complete\n",
    "sampler = # complete"
   ]
  },
  {
   "cell_type": "markdown",
   "metadata": {},
   "source": [
    "Now we are ready to run the MCMC, starting with a burn-in chain of 500 steps, after which we reset the sampler, and run the sampler again for 100 iterations. Complete the code below."
   ]
  },
  {
   "cell_type": "code",
   "execution_count": null,
   "metadata": {
    "collapsed": true
   },
   "outputs": [],
   "source": [
    "print(\"Running burn-in...\")\n",
    "p2, _, _ = # complete\n",
    "sampler.reset()\n",
    "\n",
    "print(\"Running production...\")\n",
    "sampler.# complete"
   ]
  },
  {
   "cell_type": "markdown",
   "metadata": {},
   "source": [
    "Next we use the `corner` function from the `corner` module to plot the posterior distributions over the parameters. Complete the code below."
   ]
  },
  {
   "cell_type": "code",
   "execution_count": null,
   "metadata": {
    "collapsed": true
   },
   "outputs": [],
   "source": [
    "labels = [r\"$\\Delta_1$\", r\"$\\Delta_2$\", r\"$\\ln A$\", r\"$\\ln\\l$\"]\n",
    "truths = ptrue\n",
    "corner.corner(# complete"
   ]
  },
  {
   "cell_type": "markdown",
   "metadata": {},
   "source": [
    "Hopefully the distributions should look reasonable and be consistent with the true values. \n",
    "\n",
    "We need to extract confidence intervals for the parameters from the MCMC chain, which we can access through `sampler.flatchain`"
   ]
  },
  {
   "cell_type": "code",
   "execution_count": null,
   "metadata": {
    "collapsed": true
   },
   "outputs": [],
   "source": [
    "samples = # complete\n",
    "# The GP parameters were explored in log space, return them to linear space\n",
    "#samples[:, -2:] = np.exp(samples[:, -2:])\n",
    "# This handy bit of code will extract median and +/- 1 sigma intervals for each parameter\n",
    "pv = map(lambda v: (v[1], v[2]-v[1], v[1]-v[0]), zip(*np.percentile(samples, [16, 50, 84], axis=0)))\n",
    "# Print the results\n",
    "for i in range(ndim):\n",
    "    pval = # complete\n",
    "    print(\"Param {}: {:5.2f} +{:4.2f} -{:4.2f} (true: {:5.2f})\".format(i+1,pval[0], pval[1], pval[2], ptrue[i]))"
   ]
  },
  {
   "cell_type": "markdown",
   "metadata": {},
   "source": [
    "Hopefully, the MCMC estimates should be consistent with the true values..."
   ]
  },
  {
   "cell_type": "markdown",
   "metadata": {},
   "source": [
    "## Challenge problem: Active scheduling\n",
    "\n",
    "Imagine you are monitoring a particular variable, you want to know its value to a given precision at anyone time, but each observation is costly, so you don't want to take any more than you have to. You can train a GP on the first few observations, then use the predictive distribution to work out when your uncertainty about the current value of the variable is so large that you need to take a new observation. Use the new observation to update the GP hyper parameters and the predictive distribution, and repeat the process...\n",
    "\n",
    "First we generate a tightly sampled time series over 100 days. This will represent the \"true\" value of the variable. We will include some periodic behaviour as that makes the problem more interesting. Then we will \"observe\" 1 point per day for the first 20 days."
   ]
  },
  {
   "cell_type": "code",
   "execution_count": null,
   "metadata": {
    "collapsed": true
   },
   "outputs": [],
   "source": [
    "xtrue = np.linspace(0,100,1000)\n",
    "k = george.kernels.CosineKernel(np.log(12.3)) * george.kernels.ExpSquaredKernel(1000.0)\n",
    "ytrue = george.GP(k).sample(xtrue)\n",
    "xobs = xtrue[:200:10]\n",
    "eobs = 10.0**(np.random.uniform(-1.5,-1,20))\n",
    "yobs = ytrue[:200:10] + np.random.normal(0,1,20) * eobs\n",
    "plt.plot(xtrue,ytrue)\n",
    "plt.errorbar(xobs,yobs,yerr=eobs,fmt='.',capsize=0);"
   ]
  },
  {
   "cell_type": "markdown",
   "metadata": {},
   "source": [
    "Your task is to devise and implement an algorithm that will schedule observations, based on the data to date, so as to ensure the uncertainty on the value of the function at any one time never exceeds 0.1. At each step, the aglorithm should:\n",
    "- train a GP on the data acquired so far. You may assume the form of the covariance function is known, as is the output variance, so there are only two hyper-parameters to fit (the log period of the cosine kernel and the metric of the squared exponential term).\n",
    "- make predictions for future values. If you're being clever, you can do this sequentially so you only look ahead a small time interval at a time, and stop as soon as the uncertainty exceeds the desired bound.\n",
    "- use this to decide when to take the next observation\n",
    "- add the next observation (by sampling the \"true\" values at the appropriate time and adding noise with the same distribution as above)\n",
    "- repeat till the end time is reached.\n",
    "\n",
    "Of course you will need to test your algorithm by comparing the predictions to the true values."
   ]
  },
  {
   "cell_type": "code",
   "execution_count": null,
   "metadata": {
    "collapsed": true
   },
   "outputs": [],
   "source": [
    "gp = george.GP(k)\n",
    "gp.set_parameter_vector([np.log(10),np.log(1000)])\n",
    "gp.compute(xobs,yerr=eobs)\n",
    "def nll(p):\n",
    "    gp.set_parameter_vector(p)\n",
    "    return -gp.log_likelihood(yobs)\n",
    "def gnll(p):\n",
    "    gp.set_parameter_vector(p)\n",
    "    return -gp.grad_log_likelihood(yobs)\n",
    "result = minimize(nll, gp.get_parameter_vector(), jac=gnll)\n",
    "print(result)\n",
    "gp.set_parameter_vector(result.x)\n",
    "ypred, epred = gp.predict(yobs, xtrue, return_var=True)\n",
    "plt.plot(xtrue,ytrue)\n",
    "plt.errorbar(xobs,yobs,yerr=eobs,fmt='.',capsize=0);\n",
    "plt.fill_between(xtrue,ypred + epred, ypred-epred,alpha=0.2,edgecolor='none')\n"
   ]
  }
 ],
 "metadata": {
  "anaconda-cloud": {},
  "kernelspec": {
   "display_name": "Python 3",
   "language": "python",
   "name": "python3"
  },
  "language_info": {
   "codemirror_mode": {
    "name": "ipython",
    "version": 3
   },
   "file_extension": ".py",
   "mimetype": "text/x-python",
   "name": "python",
   "nbconvert_exporter": "python",
   "pygments_lexer": "ipython3",
   "version": "3.6.2"
  }
 },
 "nbformat": 4,
 "nbformat_minor": 2
}
