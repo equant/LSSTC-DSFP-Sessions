{
 "cells": [
  {
   "cell_type": "markdown",
   "metadata": {
    "slideshow": {
     "slide_type": "slide"
    }
   },
   "source": [
    "# A Short Tour of an Astronomical Inference\n",
    "\n",
    "Goals:\n",
    "\n",
    "* Understand what is meant by \"data\", \"noise\", and \"models\"\n",
    "* Gain some appreciation for what astronomical data is like, and what astronomers are typically trying to do"
   ]
  },
  {
   "cell_type": "markdown",
   "metadata": {
    "slideshow": {
     "slide_type": "slide"
    }
   },
   "source": [
    "## Data analysis\n",
    "\n",
    "What is data? How should we think about data in science?\n",
    "<br>\n",
    "<br>\n",
    "* Data are *constants* (usually numbers) \n",
    "\n",
    "* ... that we are *handed* (typically in a data file) \n",
    "       \n",
    "* ... that *we hope to learn something from.*"
   ]
  },
  {
   "cell_type": "markdown",
   "metadata": {
    "slideshow": {
     "slide_type": "slide"
    }
   },
   "source": [
    "## Scientific data analysis\n",
    "\n",
    "* Propose observations\n",
    "* Observe sky, collect and \"reduce\" data\n",
    "* **Explore and summarize the data**\n",
    "* **Hypothesize**, and **test**\n",
    "* **Interpret,** conclude, speculate\n",
    "* Report\n",
    "\n",
    "> This course primarily concerns the parts of the investigation listed in **bold**."
   ]
  },
  {
   "cell_type": "markdown",
   "metadata": {
    "slideshow": {
     "slide_type": "slide"
    }
   },
   "source": [
    "## Learning from data\n",
    "\n",
    "* Data analysis is _central_ to the scientific process: statistical inference is the mathematical formalization of _learning_.\n",
    "\n",
    "* The formalism is important: hypothesizing, testing, and intepreting are all potentially _very messy._\n",
    "\n",
    "\n",
    "Let's take a short tour through a simple example astronomical data analysis, that will briefly introduce many key concepts involved in learning from data."
   ]
  },
  {
   "cell_type": "markdown",
   "metadata": {
    "slideshow": {
     "slide_type": "slide"
    }
   },
   "source": [
    "## An example image dataset\n",
    "\n",
    "* In optical, X-ray and gamma-ray astronomy, the most basic datasets are *images*\n",
    "\n",
    "* Images can be 2D, from cameras, or 1D, from spectrographs, or 3D, from IFUs (integral field units). \n",
    "\n",
    "* Image data come packaged as an *array* of numbers, which we can visualize, and do calculations with.\n",
    "\n",
    "Let's look at some X-ray image data from the XMM satellite, for the galaxy cluster A1835."
   ]
  },
  {
   "cell_type": "markdown",
   "metadata": {
    "slideshow": {
     "slide_type": "slide"
    }
   },
   "source": [
    "<img src=\"../graphics/tour_cluster_image.png\" width=70%>"
   ]
  },
  {
   "cell_type": "markdown",
   "metadata": {
    "slideshow": {
     "slide_type": "slide"
    }
   },
   "source": [
    "<table><tr width=90%>\n",
    "<td><img src=\"../graphics/tour_cluster_image.png\" height=300></td>\n",
    "<td><img src=\"../graphics/tour_cluster_image_zoom.png\" height=300></td>\n",
    "</tr></table>\n",
    "\n",
    "#### In pairs:\n",
    "Identify some features of this image (note the zoomed-in view), and be prepared to speculate on what causes them. What can you say about the uncertainty associated with them?"
   ]
  },
  {
   "cell_type": "markdown",
   "metadata": {
    "slideshow": {
     "slide_type": "slide"
    }
   },
   "source": [
    "## Sources of uncertainty\n",
    "\n",
    "* Noise: \"statistical\" uncertainty, random error\n",
    "\n",
    "* Astrophysical sources: \"signal\", from the target and otherwise\n",
    "\n",
    "* Instrumental effects: variable sensitivity, point spread function blurring, vignetting, artifacts etc\n",
    "\n",
    "* Calibration: units of pixel values"
   ]
  },
  {
   "cell_type": "markdown",
   "metadata": {
    "slideshow": {
     "slide_type": "slide"
    }
   },
   "source": [
    "## Coping with uncertainty\n",
    "\n",
    "* Coping with statistical uncertainty means acknowledging that things could have been different: if we took the observation again we would get different pixel values.\n",
    "\n",
    "* This thought leads us to the notion of a _probability distribution for the data_\n",
    "\n",
    "* Learning from data (\"statistical inference\") is about being able to make mock datasets that match, or \"fit\", the observed one, _to within the statistical uncertainties_ - as if they had all been drawn from the same probability distribution.\n"
   ]
  },
  {
   "cell_type": "markdown",
   "metadata": {
    "slideshow": {
     "slide_type": "slide"
    }
   },
   "source": [
    "## Noise\n",
    "\n",
    "<img src=\"../graphics/tour_cluster_image_zoom.png\" height=200>"
   ]
  },
  {
   "cell_type": "markdown",
   "metadata": {
    "slideshow": {
     "slide_type": "slide"
    }
   },
   "source": [
    "## Noise\n",
    "\n",
    "* The photons arriving in our pixels seem to have been emitted, and arrive, \"at random\", giving rise to a \"noisy\" image. (You may have seen such images on TV.)\n",
    "\n",
    "* Ultimately, the source of this randomness is quantum mechanics: atoms do not emit photons at regular intervals\n",
    "\n",
    "* We expect the total number of photons arriving in each pixel during the exposure time to be well described as being drawn from a _probability distribution_ $P(N_k|\\theta,H)$, whose functional form we can hope to first guess and then refine."
   ]
  },
  {
   "cell_type": "markdown",
   "metadata": {
    "slideshow": {
     "slide_type": "slide"
    }
   },
   "source": [
    "## Systematics\n",
    "<img src=\"../graphics/tour_cluster_image.png\" width=60%>"
   ]
  },
  {
   "cell_type": "markdown",
   "metadata": {
    "slideshow": {
     "slide_type": "slide"
    }
   },
   "source": [
    "## Signals and Systematics\n",
    "\n",
    "* Despite the noise, we can see a variety of \"signals\" in the image\n",
    "\n",
    "* The feature we care about most is the cluster of galaxies in the center of the field\n",
    "\n",
    "* Failure to account for the other features will introduce _systematic errors_ in our inferences\n",
    "\n",
    "* Understanding these features means being able to \"predict\" them: that is, to _generate_ mock images that have the same types of feature"
   ]
  },
  {
   "cell_type": "markdown",
   "metadata": {
    "slideshow": {
     "slide_type": "slide"
    }
   },
   "source": [
    "## Modeling data\n",
    "\n",
    "* In order to generate mock data for comparison with our observations we need a _mathematical model_ \n",
    "\n",
    "* In practice, this model needs to be implemented in computer code.\n",
    "\n",
    "* Writing this model involves making assumptions $H$ - about both the noise and the various signals in the data\n",
    "\n",
    "* _These assumptions are unavoidable_"
   ]
  },
  {
   "cell_type": "markdown",
   "metadata": {
    "slideshow": {
     "slide_type": "slide"
    }
   },
   "source": [
    "## You cannot do inference without making assumptions"
   ]
  },
  {
   "cell_type": "markdown",
   "metadata": {
    "slideshow": {
     "slide_type": "slide"
    }
   },
   "source": [
    "## An example analysis\n",
    "\n",
    "To see how some of these ideas crop up in real data analysis, let's take a quick tour through the [following paper](https://arxiv.org/abs/1509.01322), from 2016:\n",
    "\n",
    "<img src=\"../graphics/tour_title.png\" width=80%>\n"
   ]
  },
  {
   "cell_type": "markdown",
   "metadata": {
    "slideshow": {
     "slide_type": "slide"
    }
   },
   "source": [
    "<img src=\"../graphics/tour_abstract.png\" width=80%>"
   ]
  },
  {
   "cell_type": "markdown",
   "metadata": {
    "slideshow": {
     "slide_type": "slide"
    }
   },
   "source": [
    "## Program\n",
    "\n",
    "* **Observe** 40 clusters, producing X-ray images and spectra, bin in annuli\n",
    "\n",
    "* **Model** the variation in gas density and temperature with radius in each cluster, assuming spherical symmetry\n",
    "\n",
    "* **Check** how well these simple models fit the image data\n",
    "\n",
    "* **Summarize** each cluster with \"measurements\" of e.g. gas mass, total mass (assuming hydrostatic equilibrium), etc\n",
    "\n",
    "* **Model** the population of clusters, using simple \"scaling relations\" between their measured total masses and gas masses etc. \n",
    "* **Check** how well this simple model fits the measurements"
   ]
  },
  {
   "cell_type": "markdown",
   "metadata": {
    "slideshow": {
     "slide_type": "slide"
    }
   },
   "source": [
    "## Modeling the X-ray images\n",
    "\n",
    "Predictions of X-ray images (left) need to include variable effective exposure time and point source masking (right).\n",
    "\n",
    "<table>\n",
    "<tr>\n",
    "<td><img src=\"../graphics/tour_cluster_image.png\"></td>\n",
    "<td><img src=\"../graphics/tour_cluster_expmap_masked.png\"></td>\n",
    "</tr>\n",
    "</table>\n",
    "\n"
   ]
  },
  {
   "cell_type": "markdown",
   "metadata": {
    "slideshow": {
     "slide_type": "slide"
    }
   },
   "source": [
    "## Modeling the X-ray Images\n",
    "\n",
    "* Assuming spherical symmetrical clusters provides a significant shortcut\n",
    "\n",
    "* After choosing a cluster center, the image pixels can be summarized in annuli, providing a high signal to noise spectrum in each one\n",
    "\n",
    "* These spectra can be predicted given a cluster gas model\n"
   ]
  },
  {
   "cell_type": "markdown",
   "metadata": {
    "slideshow": {
     "slide_type": "slide"
    }
   },
   "source": [
    "## Modeling the cluster gas\n",
    "\n",
    "Spherically-symmetric, radially piecewise constant gas density and temperature: predict spectra in annuli and fit to the summarized data.\n",
    "\n",
    "<img src=\"../graphics/tour_cluster_profiles.png\" width=90%>"
   ]
  },
  {
   "cell_type": "markdown",
   "metadata": {
    "slideshow": {
     "slide_type": "slide"
    }
   },
   "source": [
    "## Checking the cluster models\n",
    "\n",
    "<img src=\"../graphics/tour_cluster_spec_residuals.png\" width=50%>\n",
    "\n",
    "* Does the _residual_ (difference) between predicted and observed data \"look like\" noise?"
   ]
  },
  {
   "cell_type": "markdown",
   "metadata": {
    "slideshow": {
     "slide_type": "slide"
    }
   },
   "source": [
    "## Summarizing/measuring each cluster\n",
    "\n",
    "* The measured gas mass is the integral of the model gas density: $M_{\\rm gas} = \\int_0^{r_{500}} 4\\pi r^2 \\rho_{\\rm gas} dr$ where $\\rho_{\\rm gas} = \\rho_{\\rm gas}(r ; \\theta)$\n",
    "\n",
    "* The measured total gravitating mass $M(r)$ can be calculated from the model gas density and temperature once hydrostatic equilibrium is assumed: $\\frac{dP_{\\rm gas}}{dr} = -\\frac{G M(r) \\rho_{\\rm gas}}{r^2}$\n",
    "\n",
    "* In practice, Mantz et all assumed a model for $M(r)$ and used it to predict $\\rho_{\\rm gas}(r)$ given a piecewise constant model for $T(r)$  \n",
    "\n",
    "* Since $P_{\\rm gas} \\propto \\rho_{\\rm gas} T_{\\rm gas}$, we expect our uncertainty in $M_{\\rm gas}$ to be correlated with that in $M$"
   ]
  },
  {
   "cell_type": "markdown",
   "metadata": {
    "slideshow": {
     "slide_type": "slide"
    }
   },
   "source": [
    "## Aside: \"measurements\" usually come with assumptions \n",
    "\n",
    "* \"Measurement\" is used to describe both collecting data and doing inference. Reduced or summarized data, and inferences, all  come with assumptions\n",
    "<br>\n",
    "<br>\n",
    "#### Thought Experiment:\n",
    "With a tape measure, you measure your height 100 times and combine the results. What assumptions does your final measurement depend on? Are you using a model? Discuss this with your neighbor for a few minutes and be prepared to share your thoughts with the class."
   ]
  },
  {
   "cell_type": "markdown",
   "metadata": {
    "slideshow": {
     "slide_type": "slide"
    }
   },
   "source": [
    "## Measurements of cluster mass\n",
    "\n",
    "<img src=\"../graphics/tour_cluster_mgas-vs-m500.png\" width=70%> "
   ]
  },
  {
   "cell_type": "markdown",
   "metadata": {
    "slideshow": {
     "slide_type": "slide"
    }
   },
   "source": [
    "## Modeling the population\n",
    "\n",
    "<img src=\"../graphics/tour_cluster_population_slopes.png\" width=90%>\n",
    "\n",
    "Power-law scaling relation slopes and intercepts, and \"intrinsic scatter\", are all \"hyper-parameters\" that describe the cluster population, not individual clusters"
   ]
  },
  {
   "cell_type": "markdown",
   "metadata": {
    "slideshow": {
     "slide_type": "slide"
    }
   },
   "source": [
    "## Checking the population model\n",
    "\n",
    "<img src=\"../graphics/tour_cluster_population_check_text.png\" width=60%>\n",
    "\n",
    "* Do all the individual objects look like they were drawn from the assumed relation?\n",
    "* Are there sub-populations that behave differently, pointing towards a more complex model?"
   ]
  },
  {
   "cell_type": "markdown",
   "metadata": {
    "slideshow": {
     "slide_type": "slide"
    }
   },
   "source": [
    "## Take-home messages\n",
    "\n",
    "* Data are constants, which we need to interpret\n",
    "\n",
    "* We need a model in order to be able to learn from data\n",
    "\n",
    "* Matching models to observations allows us to cope with uncertainty \n",
    "\n",
    "* You cannot do inference, or make measurements, without making assumptions\n",
    "\n",
    "* Assumptions can, and should, be tested, with the data\n",
    "\n",
    "* The result of one inference can be (summarized and) used as the data for a subsequent one"
   ]
  }
 ],
 "metadata": {
  "celltoolbar": "Slideshow",
  "kernelspec": {
   "display_name": "Python 2",
   "language": "python",
   "name": "python2"
  },
  "language_info": {
   "codemirror_mode": {
    "name": "ipython",
    "version": 2
   },
   "file_extension": ".py",
   "mimetype": "text/x-python",
   "name": "python",
   "nbconvert_exporter": "python",
   "pygments_lexer": "ipython2",
   "version": "2.7.12"
  },
  "livereveal": {
   "scroll": true,
   "start_slideshow_at": "selected"
  }
 },
 "nbformat": 4,
 "nbformat_minor": 0
}
