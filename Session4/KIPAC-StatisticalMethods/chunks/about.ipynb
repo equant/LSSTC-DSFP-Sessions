{
 "cells": [
  {
   "cell_type": "markdown",
   "metadata": {
    "slideshow": {
     "slide_type": "slide"
    }
   },
   "source": [
    "# PHYS366: Statistical Methods in Astrophysics\n",
    "\n",
    "_Adam Mantz & Phil Marshall_\n",
    "\n",
    "A more detailed version of this course description can be found [here](../doc/Stanford.md)"
   ]
  },
  {
   "cell_type": "markdown",
   "metadata": {
    "slideshow": {
     "slide_type": "slide"
    }
   },
   "source": [
    "This is a course about data analysis, with examples from astronomy. \n",
    "\n",
    "It is designed to be interactive, and useful both to graduate students in the physics department at Stanford and elsewhere around the world."
   ]
  },
  {
   "cell_type": "markdown",
   "metadata": {
    "slideshow": {
     "slide_type": "slide"
    }
   },
   "source": [
    "> \"Existing and emerging statistical techniques and their application to astronomical surveys and cosmological data analysis. Topics covered will include statistical frameworks (Bayesian inference and frequentist statistics), numerical methods including Markov Chain Monte Carlo, and machine learning applied to classification and regression. Hands on activities based on open-source software in python.\""
   ]
  },
  {
   "cell_type": "markdown",
   "metadata": {
    "slideshow": {
     "slide_type": "slide"
    }
   },
   "source": [
    "## Goals\n",
    "\n",
    "* Develop familiarity in working with various types of (astronomical) data\n",
    "* Understand the key role of _modeling_ in data analysis \n",
    "* Be able to _critically evaluate and apply_ commonly used statistical inference methodologies and advanced statistical reasoning to _problems you are likely to encounter in your research._"
   ]
  },
  {
   "cell_type": "markdown",
   "metadata": {
    "slideshow": {
     "slide_type": "slide"
    }
   },
   "source": [
    "This means that:\n",
    "\n",
    "* We will primarily look at examples using image data, and numerical catalogs/databases. \n",
    "\n",
    "* We will focus on _how to think about_ data analysis as much as how to execute it.\n",
    "\n",
    "* It's perfectly fine to use this class to advance your current research project"
   ]
  },
  {
   "cell_type": "markdown",
   "metadata": {
    "slideshow": {
     "slide_type": "slide"
    }
   },
   "source": [
    "## In Class\n",
    "\n",
    "We will:\n",
    "\n",
    "* Discuss concepts in data analysis in some depth\n",
    "* Work through examples together.\n",
    "* Provide hands-on experience through, collaboratively worked problems\n",
    "\n",
    "The course is divided into \"chunks\", which should each take (very roughly) 30-60 minutes to work through. "
   ]
  },
  {
   "cell_type": "markdown",
   "metadata": {
    "slideshow": {
     "slide_type": "slide"
    }
   },
   "source": [
    "## References\n",
    "\n",
    "At the beginning of each chunk we'll list some opportunities for additional reading, mostly from:\n",
    "\n",
    "* **[David MacKay, \"Information Theory, Inference and Learning Algorithms\"](http://www.inference.phy.cam.ac.uk/mackay/itprnn/book.html)** (free download)\n",
    "* **[Ivezic et al, \"Statistics, Data Mining and Machine Learning in Astronomy\"](http://www.astroml.org/)**\n",
    "* **[Gelman et al, \"Bayesian Data Analysis\"](http://www.stat.columbia.edu/~gelman/book/)** (2nd ed.)\n",
    "* **Ross, \"A First Course in Probability\"** (7th ed.)\n",
    "* **Fishman, \"A First Course in Monte Carlo\"**\n",
    "* **[Bishop, \"Pattern Recognition and Machine Learning,\"](https://www.amazon.com/Pattern-Recognition-Learning-Information-Statistics/dp/0387310738)\"**"
   ]
  },
  {
   "cell_type": "markdown",
   "metadata": {
    "slideshow": {
     "slide_type": "slide"
    }
   },
   "source": [
    "## Grades\n",
    "\n",
    "1. **Class Participation: 20%**\n",
    "\n",
    "2. **8 Weekly Homework Assignments: 45%**\n",
    "\n",
    "3. **Final Project: 35%**\n",
    "\n",
    "Projects will be presented during the final class on March 16,\n",
    "and final written reports will be due on March 23."
   ]
  },
  {
   "cell_type": "markdown",
   "metadata": {
    "collapsed": true,
    "slideshow": {
     "slide_type": "slide"
    }
   },
   "source": [
    "## Homework\n",
    "\n",
    "* Each homework will consist of a short exercise and a longer problem.\n",
    "\n",
    "* Assignments will be made available via the [2017 homework repo](https://github.com/drphilmarshall/PHYS366-Homework-2017).\n",
    "\n",
    "* Submission is by *pull request*, from your fork to the base repo. We will merge these after reviewing them.\n",
    "\n",
    "Please make your own folder (e.g. `Week1/phil`, `Week2/adam+phil`, etc) so we can easily identify your solutions."
   ]
  },
  {
   "cell_type": "markdown",
   "metadata": {
    "slideshow": {
     "slide_type": "slide"
    }
   },
   "source": [
    "## Presenting Homework\n",
    "\n",
    "Each student will present (at least) one homework solution in class, in the form of a 5-10 minute talk.\n",
    "\n",
    "* Collaboration on both solutions and presentations is encouraged.\n",
    "* Collaborators' input must always be properly cited (e.g. by name, hyperlinked to their solution).\n",
    "\n",
    "Presenters will be chosen when the assignment is released (if not earlier). More details [here](../doc/Stanford.md)."
   ]
  },
  {
   "cell_type": "markdown",
   "metadata": {
    "slideshow": {
     "slide_type": "slide"
    }
   },
   "source": [
    "## Notes on Homework\n",
    "\n",
    "* Your submission pull requests will be reviewed before they are merged to the main  HW repo\n",
    "\n",
    "* Your solutions become visible once you push to your fork and/or start a pull request\n",
    "\n",
    "* You can learn from each other by pushing early, and discussing via the PR thread. (This will be especially helpful if it is your turn to present!)"
   ]
  },
  {
   "cell_type": "markdown",
   "metadata": {
    "slideshow": {
     "slide_type": "slide"
    }
   },
   "source": [
    "## Week 0: Hello World\n",
    "\n",
    "* Let's take a look at how you did on the [Week 0 homework](https://github.com/drphilmarshall/PHYS366-Homework-2017/tree/master/Week0)\n",
    "\n",
    "* Conversations, \"Files Changed\", presentation tips"
   ]
  },
  {
   "cell_type": "markdown",
   "metadata": {
    "slideshow": {
     "slide_type": "slide"
    }
   },
   "source": [
    "## Projects\n",
    "\n",
    "* Weeks 1-5: brainstorm ideas, form teams\n",
    "\n",
    "* Week 6 *at the latest*: arrange to pitch your idea to Adam and/or Phil, and write a brief abstract\n",
    "\n",
    "* Weeks 6-10: work on the project, with your teammates.\n",
    "\n",
    "* March 16: presentations\n",
    "\n",
    "* March 23: turn in written report by 6PM"
   ]
  },
  {
   "cell_type": "markdown",
   "metadata": {
    "slideshow": {
     "slide_type": "slide"
    }
   },
   "source": [
    "## Communication\n",
    "\n",
    "* \"Watch\" the [2017 homework GitHub repo](https://github.com/drphilmarshall/PHYS366-Homework-2017) for messages via its issues system\n",
    "\n",
    "* Use the Physics 366 Slack team to instant message the instructors and students\n",
    "\n",
    "Bug one of us if you haven't been invited to join the Slack team by the second week of class, or if you have questions about GitHub."
   ]
  },
  {
   "cell_type": "markdown",
   "metadata": {
    "slideshow": {
     "slide_type": "slide"
    }
   },
   "source": [
    "## Schedule\n",
    "\n",
    "* The schedule of chunks is given in the [README of the `chunks` folder](https://github.com/KIPAC/StatisticalMethods/blob/master/chunks/README.md), which is linked from the [main course README](https://github.com/KIPAC/StatisticalMethods/blob/master/README.md)."
   ]
  }
 ],
 "metadata": {
  "celltoolbar": "Slideshow",
  "kernelspec": {
   "display_name": "Python 2",
   "language": "python",
   "name": "python2"
  },
  "language_info": {
   "codemirror_mode": {
    "name": "ipython",
    "version": 2
   },
   "file_extension": ".py",
   "mimetype": "text/x-python",
   "name": "python",
   "nbconvert_exporter": "python",
   "pygments_lexer": "ipython2",
   "version": "2.7.12"
  },
  "livereveal": {
   "scroll": true,
   "start_slideshow_at": "selected"
  }
 },
 "nbformat": 4,
 "nbformat_minor": 0
}
