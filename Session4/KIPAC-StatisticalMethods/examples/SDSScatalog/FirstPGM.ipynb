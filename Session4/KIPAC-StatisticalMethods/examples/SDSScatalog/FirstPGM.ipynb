{
 "cells": [
  {
   "cell_type": "markdown",
   "metadata": {},
   "source": [
    "# A First PGM\n",
    "\n",
    "Below is a graphical representation of the combination:\n",
    "\n",
    "${\\rm Pr}(R_{\\rm obs}|R_{\\rm true},\\sigma) \\; {\\rm Pr}(R_{\\rm true}|\\mu,S) \\; {\\rm Pr}(\\mu) \\; {\\rm Pr}(S)$\n",
    "\n",
    "In generating mock data $R_{{\\rm obs},k}$ for galaxies $k$ we needed to:\n",
    "\n",
    "* Assume values $\\mu$ and $S$ for the intrinsic size distribution\n",
    "* Generate intrinsic sizes $R_{{\\rm obs},k}$ for each galaxy\n",
    "* Add noise, generating $R_{\\rm obs}$\n",
    "\n",
    "The \"Probabilistic Graphical Model\" below illustrates this procedure, and also the probability distributions in the expression above."
   ]
  },
  {
   "cell_type": "code",
   "execution_count": null,
   "metadata": {
    "collapsed": true
   },
   "outputs": [],
   "source": [
    "# !pip install --upgrade daft\n",
    "import daft"
   ]
  },
  {
   "cell_type": "code",
   "execution_count": null,
   "metadata": {
    "collapsed": false
   },
   "outputs": [],
   "source": [
    "# Instantiate a PGM.\n",
    "pgm = daft.PGM([2.3, 2.05], origin=[0.3, 0.3], grid_unit=2.6, node_unit=1.3, observed_style=\"inner\")\n",
    "\n",
    "# Hierarchical parameters.\n",
    "pgm.add_node(daft.Node(\"mu\", r\"$\\mu$\", 0.5, 2, fixed=True))\n",
    "pgm.add_node(daft.Node(\"S\", r\"$S$\", 1.5, 2, fixed=True))\n",
    "\n",
    "# Latent variable:\n",
    "pgm.add_node(daft.Node(\"Rtrue\", r\"$R_{{\\rm true},k}$\", 1, 1))\n",
    "\n",
    "# Data:\n",
    "pgm.add_node(daft.Node(\"Robs\", r\"$R_{{\\rm obs},k}$\", 2, 1))\n",
    "\n",
    "# Add in the edges.\n",
    "pgm.add_edge(\"mu\", \"Rtrue\")\n",
    "pgm.add_edge(\"S\", \"Rtrue\")\n",
    "pgm.add_edge(\"Rtrue\", \"Robs\")\n",
    "\n",
    "# And a plate.\n",
    "pgm.add_plate(daft.Plate([0.5, 0.5, 2, 1], label=r\"galaxies $k = 1, \\cdots, 1000$\",\n",
    "    shift=-0.1))\n",
    "\n",
    "# Render and save.\n",
    "pgm.render()\n",
    "pgm.figure.savefig(\"samplingdistributions.png\", dpi=300)\n",
    "\n",
    "# Display:\n",
    "from IPython.display import Image\n",
    "Image(filename=\"samplingdistributions.png\")"
   ]
  }
 ],
 "metadata": {
  "kernelspec": {
   "display_name": "Python 2",
   "language": "python",
   "name": "python2"
  },
  "language_info": {
   "codemirror_mode": {
    "name": "ipython",
    "version": 2
   },
   "file_extension": ".py",
   "mimetype": "text/x-python",
   "name": "python",
   "nbconvert_exporter": "python",
   "pygments_lexer": "ipython2",
   "version": "2.7.12"
  }
 },
 "nbformat": 4,
 "nbformat_minor": 0
}
