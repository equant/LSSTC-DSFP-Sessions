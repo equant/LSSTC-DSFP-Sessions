{
 "cells": [
  {
   "cell_type": "markdown",
   "metadata": {},
   "source": [
    "# Exploring Data\n",
    "\n",
    "\n",
    "We looked at 3 example astronomical datasets:\n",
    "\n",
    "* An *image* from XMM_Newton\n",
    "\n",
    "* An *object catalog* from SDSS\n",
    "\n",
    "* A *set of measurements* from Riess et al 2011."
   ]
  },
  {
   "cell_type": "markdown",
   "metadata": {},
   "source": [
    "In each case, it was useful to:\n",
    "\n",
    "* *Visualize* the data in various ways\n",
    "\n",
    "* *Summarize* the data, to reduce its dimensionality and bring out interesting structure"
   ]
  },
  {
   "cell_type": "markdown",
   "metadata": {},
   "source": [
    "Classical statistics, such as\n",
    "\n",
    "* Means, medians and variances\n",
    "\n",
    "* Histograms\n",
    "\n",
    "* Correlation functions\n",
    "\n",
    "* and so on\n",
    "\n",
    "are not only useful tools for summarizing data: \n",
    "\n",
    "they get passed forward to new analyses *where they are treated as data themselves*."
   ]
  },
  {
   "cell_type": "markdown",
   "metadata": {},
   "source": [
    "One answer to our question \"What is Data?\" is therefore:\n",
    "\n",
    "```\n",
    "Data are *constants* \n",
    "  (usually numbers) \n",
    "    that we are *handed* \n",
    "      (typically in a data file) \n",
    "        that *we hope to learn something from.*\n",
    "```"
   ]
  },
  {
   "cell_type": "markdown",
   "metadata": {},
   "source": [
    "In the next session we'll look at how learning from data - *inference* - works."
   ]
  }
 ],
 "metadata": {
  "kernelspec": {
   "display_name": "Python 2",
   "language": "python",
   "name": "python2"
  },
  "language_info": {
   "codemirror_mode": {
    "name": "ipython",
    "version": 2
   },
   "file_extension": ".py",
   "mimetype": "text/x-python",
   "name": "python",
   "nbconvert_exporter": "python",
   "pygments_lexer": "ipython2",
   "version": "2.7.12"
  }
 },
 "nbformat": 4,
 "nbformat_minor": 0
}
