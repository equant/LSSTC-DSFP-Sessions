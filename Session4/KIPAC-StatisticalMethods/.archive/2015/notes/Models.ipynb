{
 "cells": [
  {
   "cell_type": "markdown",
   "metadata": {},
   "source": [
    "# A Short Diversion on Models in Science\n",
    "\n",
    "\n",
    "* In the previous exercise, we made a generative model, that allowed us to make mock data and compare it with real data until the datasets matched.\n",
    "\n",
    "\n",
    "* A model is good if it is able to reproduce the data: we *learn* by adjusting our models in the light of new information.\n",
    "\n",
    "\n",
    "* The model then provides form to our understanding of the physical object. All of your understanding of everything you know about is in terms of a *model.*"
   ]
  },
  {
   "cell_type": "markdown",
   "metadata": {},
   "source": [
    "## What makes a good model?\n",
    "\n",
    "![Simple or idealized approximations to real life, that can be compared, are flexible, and make predictions](models/models.001.jpg)"
   ]
  },
  {
   "cell_type": "markdown",
   "metadata": {},
   "source": [
    "![Above all, good models fit the data](models/models.002.jpg)"
   ]
  },
  {
   "cell_type": "markdown",
   "metadata": {},
   "source": [
    "* Models are of central importance in science: without data we have no information, and without models we have no understanding.\n",
    "\n",
    "\n",
    "* Sometimes results are described as being \"model-independent\"; the only model-independent quantities are the *data*, handed to us as constants, or *summaries of those data*. Any physical interpretation of those data will *necessarily be model-dependent.*\n",
    "\n",
    "\n",
    "* What people sometimes mean by \"model-independent\" is that their model is *not simply-parameterized,* and/or does not involve *strong assumptions*. But beware: aspiring to model-independence can lead you to overlook the assumptions that *are inevitably involved*.\n",
    "\n",
    "\n",
    "* In general, it's best to *own your model* - and *test your assumptions*."
   ]
  },
  {
   "cell_type": "markdown",
   "metadata": {},
   "source": [
    "## Models in Astrophysics\n",
    "\n",
    "![Just add parameters](models/models.003.jpg)"
   ]
  },
  {
   "cell_type": "markdown",
   "metadata": {},
   "source": [
    "Just add parameters:\n",
    "\n",
    "* Exponential Disk surface brightness: $x$, $y$, $R_{\\rm d}$, $I_{\\rm d}$\n",
    "\n",
    "* Sersic Bulge surface brightness: $R_{\\rm b}$, $I_{\\rm b}$, $n_{\\rm b}$\n",
    "\n",
    "* NFW dark matter halo: $x_{\\rm h}$, $y_{\\rm h}$, $M_{200}$, $c_{200}$\n",
    "\n",
    "* Mass-to-light ratios: $\\mu_{\\rm d}$, $\\mu_{\\rm b}$\n",
    "\n",
    "and so on."
   ]
  },
  {
   "cell_type": "code",
   "execution_count": null,
   "metadata": {
    "collapsed": true
   },
   "outputs": [],
   "source": []
  }
 ],
 "metadata": {
  "kernelspec": {
   "display_name": "Python 2",
   "language": "python",
   "name": "python2"
  },
  "language_info": {
   "codemirror_mode": {
    "name": "ipython",
    "version": 2
   },
   "file_extension": ".py",
   "mimetype": "text/x-python",
   "name": "python",
   "nbconvert_exporter": "python",
   "pygments_lexer": "ipython2",
   "version": "2.7.10"
  }
 },
 "nbformat": 4,
 "nbformat_minor": 0
}
