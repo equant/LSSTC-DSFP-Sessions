{
 "cells": [
  {
   "cell_type": "markdown",
   "metadata": {},
   "source": [
    "# About This Course\n",
    "\n",
    "This is a course about data analysis, with examples from astronomy. \n",
    "\n",
    "It is designed to be interactive, and useful both to graduate students in the physics department at Stanford and elsewhere around the world. "
   ]
  },
  {
   "cell_type": "markdown",
   "metadata": {},
   "source": [
    "### Getting Started\n",
    "\n",
    "* Before we start, you should have worked through the [Getting Started page](https://github.com/drphilmarshall/StatisticalMethods/blob/master/doc/GettingStarted.md) on the course GitHub repository.\n",
    "\n",
    "* We will do a number of exercises in class as we go, to give you experience with the concepts, techniques and datasets we will be using. \n",
    "\n",
    "* You will need a computer, that is running git and IPython notebooks, to be able to work through these in-class exercises. If you are not set up, you can pair up with someone who has everything up and running.\n",
    "\n",
    "* Make sure you have forked and `git clone`'d the [course repository](https://github.com/drphilmarshall/StatisticalMethods), and have [The Plan notebook](../lessons/0.ThePlan.ipynb) open and running locally (that is, not just viewing it on GitHub). From there, you can navigate to the other lessons as we go. At this point, the URL in your browser window should say something like \"`http://localhost:8890/notebooks/lessons/0.ThePlan.ipynb`\""
   ]
  },
  {
   "cell_type": "markdown",
   "metadata": {},
   "source": [
    "### Homework\n",
    "\n",
    "Stanford students: \n",
    "\n",
    "* Make sure you have read and understood the [instructions.](https://github.com/drphilmarshall/StatisticalMethods/blob/master/doc/Homework.md)\n",
    "\n",
    "* There will be three homework assignments, released on each of the first three Tuesdays of the course.\n",
    "\n",
    "* Assignments will appear on Tuesday each week in the [private base Homework repository](https://github.com/drphilmarshall/PHYS366-Homework-2015), announced via an issue in that repository. Fork it, so that you get the notification and can `git pull` the assignments.\n",
    "\n",
    "* Submission of your attempts at each problem is by _pull request_. \n",
    "\n",
    "* The first 20 minutes of each Tuesday class will be given over to looking at your solutions together: sign up on the Google spreadsheet provided in that week's homework issue thread.\n",
    "\n",
    "* After session 1 you will be able to do HW1 problem 1, parts a), b) and c). The other HW1 problems you will be able to do after session 2. This pattern is typical: plan on doing PHYS366 homework on Fridays!\n",
    "\n",
    "Homework assignments (but not the students' attempts at them) will be released publically after the course has finished."
   ]
  },
  {
   "cell_type": "markdown",
   "metadata": {},
   "source": [
    "### Projects\n",
    "\n",
    "Stanford students:\n",
    "\n",
    "* In the last two weeks, you will do a short project, to apply some of the things you have learned in the course.\n",
    "\n",
    "* You can do this project by yourself, or in groups of any size. We will be available to meet with you in Week 2 to make sure everyone is doing something useful.\n",
    "\n",
    "* Your group will need to submit a pull request to the [homework repo](https://github.com/drphilmarshall/PHYS366-Homework-2015) briefly outlining the project by Tuesday of Week 3 (October 6) so that we can check that your project makes sense, and give you some feedback.\n",
    "\n",
    "* The final session of the course will be devoted to hearing about your projects, and giving feedback. You grade will partly depend on this presentation.\n",
    "\n",
    "* You will need to submit a short written report (also by pull request). We will read the last version of your PDF file committed by midnight on Thursday October 28."
   ]
  }
 ],
 "metadata": {
  "kernelspec": {
   "display_name": "Python 2",
   "language": "python",
   "name": "python2"
  },
  "language_info": {
   "codemirror_mode": {
    "name": "ipython",
    "version": 2
   },
   "file_extension": ".py",
   "mimetype": "text/x-python",
   "name": "python",
   "nbconvert_exporter": "python",
   "pygments_lexer": "ipython2",
   "version": "2.7.12"
  }
 },
 "nbformat": 4,
 "nbformat_minor": 0
}
