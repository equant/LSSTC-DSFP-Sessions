{
 "cells": [
  {
   "cell_type": "markdown",
   "metadata": {},
   "source": [
    "# PHYS366: Statistical Methods in Astrophysics\n",
    "\n",
    "\n",
    "### [Lesson 1: Exploring Data](1.ExploringData.ipynb)\n",
    "### [Lesson 2: Understanding From Data](2.UnderstandingFromData.ipynb)\n",
    "### [Lesson 3: Inference in Practice: PDF Characterization](3.PDFCharacterization.ipynb)\n",
    "### [Lesson 4: Inference in Practice: Sampling Techniques](4.SamplingTechniques.ipynb)\n",
    "### [Lesson 5: Inference in Practice: Coping With Complications](5.CopingWithComplications.ipynb)\n",
    "### [Lesson 6: Inference in Practice: Evaluating Models](6.EvaluatingModels.ipynb)\n",
    "### [Lesson 7: Applications in Astroparticle Physics](7.ApplicationsInAstroparticlePhysics.ipynb)\n",
    "### [Lesson 8: Applications in Cosmology](8.ApplicationsInCosmology.ipynb)\n",
    "### [Lesson 9: Machine Learning](9.MachineLearning.ipynb)\n",
    "### [Lesson 10: Project Presentations](10.ProjectPresentations.ipynb)\n",
    "\n"
   ]
  }
 ],
 "metadata": {
  "kernelspec": {
   "display_name": "Python 2",
   "language": "python",
   "name": "python2"
  },
  "language_info": {
   "codemirror_mode": {
    "name": "ipython",
    "version": 2
   },
   "file_extension": ".py",
   "mimetype": "text/x-python",
   "name": "python",
   "nbconvert_exporter": "python",
   "pygments_lexer": "ipython2",
   "version": "2.7.12"
  }
 },
 "nbformat": 4,
 "nbformat_minor": 0
}
