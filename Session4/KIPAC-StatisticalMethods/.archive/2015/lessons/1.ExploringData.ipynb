{
 "cells": [
  {
   "cell_type": "markdown",
   "metadata": {},
   "source": [
    "# PHYS366: Statistical Methods in Astrophysics\n",
    "\n",
    "<br>\n",
    "<br>\n",
    "Before we start, let's see:\n",
    "\n",
    "[What is this course about, and how is it going to work?](../notes/About.ipynb)\n"
   ]
  },
  {
   "cell_type": "markdown",
   "metadata": {},
   "source": [
    "# Lesson 1: Exploring Data\n",
    "\n",
    "\n",
    "### Goals for this session:\n",
    "\n",
    "* Familiarize ourselves with 3 types of astronomical data: images, object catalogs, and reported measurements\n",
    "* Remember some *summary statistics* (and maybe learn some new ones) and put them into practice \n",
    "* Build a *generative model*, and simulate some data with it \n",
    "\n",
    "#### Related reading:\n",
    "Ivezic Chapter 1, sections 1.1, 1.2, 1.4, 1.5, and Chapter 3, section 3.2."
   ]
  },
  {
   "cell_type": "markdown",
   "metadata": {
    "collapsed": true
   },
   "source": [
    "# What is \"data\"? \n",
    "\n",
    "* [Let's start thinking a bit about this.](../notes/DataInScience.ipynb)"
   ]
  },
  {
   "cell_type": "markdown",
   "metadata": {
    "collapsed": true
   },
   "source": [
    "# Example 1: X-ray Image\n",
    "\n",
    "Telescopes have cameras that record images.\n",
    "\n",
    "* [Let's take a look at an image from XMM](../examples/XrayImage/FirstLook.ipynb)\n",
    "\n",
    "\n",
    "* [Summary statistics give us a better picture of what is going on](../examples/XrayImage/Summarizing.ipynb)\n"
   ]
  },
  {
   "cell_type": "markdown",
   "metadata": {},
   "source": [
    "# Example 2: SDSS Catalog\n",
    "\n",
    "Images get processed into automated detections and measurements of astronomical objects, which are then catalogued. \n",
    "\n",
    "* [First let's take a look at some SDSS galaxy measurements](../examples/SDSScatalog/FirstLook.ipynb)\n",
    "\n",
    "\n",
    "* [Summarizing galaxy positions: the \"correlation function\"](../examples/SDSScatalog/CorrFunc.ipynb)\n",
    "\n",
    "\n",
    "* [Now let's look at the relationship between *observed* and *intrinsic* galaxy properties in more detail.](../examples/SDSScatalog/GalaxySizes.ipynb)"
   ]
  },
  {
   "cell_type": "markdown",
   "metadata": {
    "collapsed": true
   },
   "source": [
    "# Example 3: Cepheid Measurements\n",
    "\n",
    "Measurements of the properties of astronomical objects, and their *error bars*, are reported for further use.\n",
    "\n",
    "* [Let's look at some measurements of the properties of Cepheid stars](../examples/Cepheids/FirstLook.ipynb)\n"
   ]
  },
  {
   "cell_type": "markdown",
   "metadata": {},
   "source": [
    "# Recap\n",
    "\n",
    "* [What did we learn?](../notes/Exploring.ipynb)"
   ]
  },
  {
   "cell_type": "code",
   "execution_count": null,
   "metadata": {
    "collapsed": true
   },
   "outputs": [],
   "source": []
  }
 ],
 "metadata": {
  "kernelspec": {
   "display_name": "Python 2",
   "language": "python",
   "name": "python2"
  },
  "language_info": {
   "codemirror_mode": {
    "name": "ipython",
    "version": 2
   },
   "file_extension": ".py",
   "mimetype": "text/x-python",
   "name": "python",
   "nbconvert_exporter": "python",
   "pygments_lexer": "ipython2",
   "version": "2.7.12"
  }
 },
 "nbformat": 4,
 "nbformat_minor": 0
}
